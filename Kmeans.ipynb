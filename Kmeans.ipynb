{
 "cells": [
  {
   "cell_type": "code",
   "execution_count": 2,
   "id": "d704b2d1-f1fe-4699-a6c9-8b0bb4ff9a57",
   "metadata": {},
   "outputs": [],
   "source": [
    "import pandas as pd\n",
    "import matplotlib.pyplot as plt\n",
    "\n",
    "from sklearn.cluster import KMeans\n",
    "from sklearn.metrics import silhouette_score"
   ]
  },
  {
   "cell_type": "code",
   "execution_count": 3,
   "id": "68a7d127-2ac8-43e8-8bb7-b1d7b893c61b",
   "metadata": {},
   "outputs": [
    {
     "data": {
      "text/plain": "            x         y\n0    0.187638  0.893959\n1    0.164452  0.915416\n2    0.185263  0.868342\n3    0.147249  0.859080\n4    0.150564  0.841006\n..        ...       ...\n817  0.143128  0.300868\n818  0.130175  0.280569\n819  0.121877  0.277660\n820  0.130575  0.306899\n821  0.139324  0.289980\n\n[822 rows x 2 columns]",
      "text/html": "<div>\n<style scoped>\n    .dataframe tbody tr th:only-of-type {\n        vertical-align: middle;\n    }\n\n    .dataframe tbody tr th {\n        vertical-align: top;\n    }\n\n    .dataframe thead th {\n        text-align: right;\n    }\n</style>\n<table border=\"1\" class=\"dataframe\">\n  <thead>\n    <tr style=\"text-align: right;\">\n      <th></th>\n      <th>x</th>\n      <th>y</th>\n    </tr>\n  </thead>\n  <tbody>\n    <tr>\n      <th>0</th>\n      <td>0.187638</td>\n      <td>0.893959</td>\n    </tr>\n    <tr>\n      <th>1</th>\n      <td>0.164452</td>\n      <td>0.915416</td>\n    </tr>\n    <tr>\n      <th>2</th>\n      <td>0.185263</td>\n      <td>0.868342</td>\n    </tr>\n    <tr>\n      <th>3</th>\n      <td>0.147249</td>\n      <td>0.859080</td>\n    </tr>\n    <tr>\n      <th>4</th>\n      <td>0.150564</td>\n      <td>0.841006</td>\n    </tr>\n    <tr>\n      <th>...</th>\n      <td>...</td>\n      <td>...</td>\n    </tr>\n    <tr>\n      <th>817</th>\n      <td>0.143128</td>\n      <td>0.300868</td>\n    </tr>\n    <tr>\n      <th>818</th>\n      <td>0.130175</td>\n      <td>0.280569</td>\n    </tr>\n    <tr>\n      <th>819</th>\n      <td>0.121877</td>\n      <td>0.277660</td>\n    </tr>\n    <tr>\n      <th>820</th>\n      <td>0.130575</td>\n      <td>0.306899</td>\n    </tr>\n    <tr>\n      <th>821</th>\n      <td>0.139324</td>\n      <td>0.289980</td>\n    </tr>\n  </tbody>\n</table>\n<p>822 rows × 2 columns</p>\n</div>"
     },
     "execution_count": 3,
     "metadata": {},
     "output_type": "execute_result"
    }
   ],
   "source": [
    "df_dados = pd.read_csv(\"Kmeans2.csv\",delimiter=',') \n",
    "\n",
    "df_dados"
   ]
  },
  {
   "cell_type": "code",
   "execution_count": 4,
   "id": "36ecfc08-46f2-4e7b-b93d-c73d7ecc96d7",
   "metadata": {},
   "outputs": [
    {
     "data": {
      "text/plain": "<Figure size 432x288 with 1 Axes>",
      "image/png": "[encoded data removed]"
     },
     "metadata": {
      "needs_background": "light"
     },
     "output_type": "display_data"
    }
   ],
   "source": [
    "plt.scatter(df_dados['x'].array,df_dados['y'])\n",
    "\n",
    "plt.xlabel('x')\n",
    "plt.ylabel('y')\n",
    "\n",
    "plt.show()"
   ]
  },
  {
   "cell_type": "code",
   "execution_count": 5,
   "id": "0e8b344d-6e43-458b-ab45-a8ba7f360948",
   "metadata": {},
   "outputs": [],
   "source": [
    "model = KMeans(n_clusters=6,random_state=0).fit(df_dados.values)"
   ]
  },
  {
   "cell_type": "code",
   "execution_count": 6,
   "id": "1437fae8-69f7-452a-a717-3d12ee08fcd6",
   "metadata": {},
   "outputs": [
    {
     "data": {
      "text/plain": "            x         y  rotulo\n0    0.187638  0.893959       3\n1    0.164452  0.915416       3\n2    0.185263  0.868342       3\n3    0.147249  0.859080       3\n4    0.150564  0.841006       3\n..        ...       ...     ...\n817  0.143128  0.300868       2\n818  0.130175  0.280569       2\n819  0.121877  0.277660       2\n820  0.130575  0.306899       2\n821  0.139324  0.289980       2\n\n[822 rows x 3 columns]",
      "text/html": "<div>\n<style scoped>\n    .dataframe tbody tr th:only-of-type {\n        vertical-align: middle;\n    }\n\n    .dataframe tbody tr th {\n        vertical-align: top;\n    }\n\n    .dataframe thead th {\n        text-align: right;\n    }\n</style>\n<table border=\"1\" class=\"dataframe\">\n  <thead>\n    <tr style=\"text-align: right;\">\n      <th></th>\n      <th>x</th>\n      <th>y</th>\n      <th>rotulo</th>\n    </tr>\n  </thead>\n  <tbody>\n    <tr>\n      <th>0</th>\n      <td>0.187638</td>\n      <td>0.893959</td>\n      <td>3</td>\n    </tr>\n    <tr>\n      <th>1</th>\n      <td>0.164452</td>\n      <td>0.915416</td>\n      <td>3</td>\n    </tr>\n    <tr>\n      <th>2</th>\n      <td>0.185263</td>\n      <td>0.868342</td>\n      <td>3</td>\n    </tr>\n    <tr>\n      <th>3</th>\n      <td>0.147249</td>\n      <td>0.859080</td>\n      <td>3</td>\n    </tr>\n    <tr>\n      <th>4</th>\n      <td>0.150564</td>\n      <td>0.841006</td>\n      <td>3</td>\n    </tr>\n    <tr>\n      <th>...</th>\n      <td>...</td>\n      <td>...</td>\n      <td>...</td>\n    </tr>\n    <tr>\n      <th>817</th>\n      <td>0.143128</td>\n      <td>0.300868</td>\n      <td>2</td>\n    </tr>\n    <tr>\n      <th>818</th>\n      <td>0.130175</td>\n      <td>0.280569</td>\n      <td>2</td>\n    </tr>\n    <tr>\n      <th>819</th>\n      <td>0.121877</td>\n      <td>0.277660</td>\n      <td>2</td>\n    </tr>\n    <tr>\n      <th>820</th>\n      <td>0.130575</td>\n      <td>0.306899</td>\n      <td>2</td>\n    </tr>\n    <tr>\n      <th>821</th>\n      <td>0.139324</td>\n      <td>0.289980</td>\n      <td>2</td>\n    </tr>\n  </tbody>\n</table>\n<p>822 rows × 3 columns</p>\n</div>"
     },
     "execution_count": 6,
     "metadata": {},
     "output_type": "execute_result"
    }
   ],
   "source": [
    "df_dados_rotulados = df_dados.copy()\n",
    "df_dados_rotulados['rotulo'] = model.labels_\n",
    "\n",
    "df_dados_rotulados"
   ]
  },
  {
   "cell_type": "code",
   "execution_count": 12,
   "id": "9c00eb25-3f50-463a-8292-c8192ab9f4d7",
   "metadata": {},
   "outputs": [
    {
     "data": {
      "text/plain": "<Figure size 432x288 with 1 Axes>",
      "image/png": "[encoded data removed]"
     },
     "metadata": {
      "needs_background": "light"
     },
     "output_type": "display_data"
    }
   ],
   "source": [
    "cores = [\"green\",\"red\",\"blue\",\"yellow\",\"purple\",\"orange\"]\n",
    "\n",
    "\n",
    "\n",
    "for i in df_dados_rotulados[\"rotulo\"]:\n",
    "    \n",
    "    df_pintar = df_dados_rotulados[df_dados_rotulados[\"rotulo\"]==i]\n",
    "    plt.scatter(df_pintar[\"x\"].array,df_pintar[\"y\"].array,color = cores[i])\n",
    "    \n",
    "plt.xlabel('x')\n",
    "plt.ylabel('y')\n",
    "\n",
    "plt.show()"
   ]
  },
  {
   "cell_type": "code",
   "execution_count": 10,
   "id": "0b4e8b34-3714-4d56-ba47-395eb6d46db0",
   "metadata": {},
   "outputs": [
    {
     "data": {
      "text/plain": "   k     score\n0  2  0.561292\n1  3  0.614904\n2  4  0.711602\n3  5  0.789849\n4  6  0.844433\n5  7  0.774571\n6  8  0.711833\n7  9  0.624155",
      "text/html": "<div>\n<style scoped>\n    .dataframe tbody tr th:only-of-type {\n        vertical-align: middle;\n    }\n\n    .dataframe tbody tr th {\n        vertical-align: top;\n    }\n\n    .dataframe thead th {\n        text-align: right;\n    }\n</style>\n<table border=\"1\" class=\"dataframe\">\n  <thead>\n    <tr style=\"text-align: right;\">\n      <th></th>\n      <th>k</th>\n      <th>score</th>\n    </tr>\n  </thead>\n  <tbody>\n    <tr>\n      <th>0</th>\n      <td>2</td>\n      <td>0.561292</td>\n    </tr>\n    <tr>\n      <th>1</th>\n      <td>3</td>\n      <td>0.614904</td>\n    </tr>\n    <tr>\n      <th>2</th>\n      <td>4</td>\n      <td>0.711602</td>\n    </tr>\n    <tr>\n      <th>3</th>\n      <td>5</td>\n      <td>0.789849</td>\n    </tr>\n    <tr>\n      <th>4</th>\n      <td>6</td>\n      <td>0.844433</td>\n    </tr>\n    <tr>\n      <th>5</th>\n      <td>7</td>\n      <td>0.774571</td>\n    </tr>\n    <tr>\n      <th>6</th>\n      <td>8</td>\n      <td>0.711833</td>\n    </tr>\n    <tr>\n      <th>7</th>\n      <td>9</td>\n      <td>0.624155</td>\n    </tr>\n  </tbody>\n</table>\n</div>"
     },
     "execution_count": 10,
     "metadata": {},
     "output_type": "execute_result"
    }
   ],
   "source": [
    "arr = []\n",
    "\n",
    "for i in range(2,10):\n",
    "    cluster = KMeans(n_clusters=i,random_state=0).fit(df_dados.values)\n",
    "    label = cluster.labels_\n",
    "    arr.append([i,silhouette_score(df_dados.values,label)])\n",
    "\n",
    "df = pd.DataFrame(arr,columns=[\"k\",\"score\"])\n",
    "df"
   ]
  },
  {
   "cell_type": "code",
   "execution_count": null,
   "outputs": [],
   "source": [],
   "metadata": {
    "collapsed": false,
    "pycharm": {
     "name": "#%%\n"
    }
   }
  }
 ],
 "metadata": {
  "kernelspec": {
   "display_name": "Python 3 (ipykernel)",
   "language": "python",
   "name": "python3"
  },
  "language_info": {
   "codemirror_mode": {
    "name": "ipython",
    "version": 3
   },
   "file_extension": ".py",
   "mimetype": "text/x-python",
   "name": "python",
   "nbconvert_exporter": "python",
   "pygments_lexer": "ipython3",
   "version": "3.8.5"
  }
 },
 "nbformat": 4,
 "nbformat_minor": 5
}