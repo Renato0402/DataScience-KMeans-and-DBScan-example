{
 "cells": [
  {
   "cell_type": "code",
   "execution_count": 166,
   "metadata": {
    "collapsed": true
   },
   "outputs": [],
   "source": [
    "import pandas as pd\n",
    "import numpy as np\n",
    "import matplotlib.pyplot as plt\n",
    "import matplotlib.cm as cm\n",
    "\n",
    "from sklearn.cluster import DBSCAN"
   ]
  },
  {
   "cell_type": "code",
   "execution_count": 167,
   "outputs": [
    {
     "data": {
      "text/plain": "            x         y\n0    0.349572  0.812367\n1    0.335572  0.817302\n2    0.308582  0.790850\n3    0.317302  0.774825\n4    0.314296  0.770972\n..        ...       ...\n548  0.457968  0.528903\n549  0.458923  0.526447\n550  0.451420  0.527094\n551  0.450440  0.530037\n552  0.455587  0.529483\n\n[553 rows x 2 columns]",
      "text/html": "<div>\n<style scoped>\n    .dataframe tbody tr th:only-of-type {\n        vertical-align: middle;\n    }\n\n    .dataframe tbody tr th {\n        vertical-align: top;\n    }\n\n    .dataframe thead th {\n        text-align: right;\n    }\n</style>\n<table border=\"1\" class=\"dataframe\">\n  <thead>\n    <tr style=\"text-align: right;\">\n      <th></th>\n      <th>x</th>\n      <th>y</th>\n    </tr>\n  </thead>\n  <tbody>\n    <tr>\n      <th>0</th>\n      <td>0.349572</td>\n      <td>0.812367</td>\n    </tr>\n    <tr>\n      <th>1</th>\n      <td>0.335572</td>\n      <td>0.817302</td>\n    </tr>\n    <tr>\n      <th>2</th>\n      <td>0.308582</td>\n      <td>0.790850</td>\n    </tr>\n    <tr>\n      <th>3</th>\n      <td>0.317302</td>\n      <td>0.774825</td>\n    </tr>\n    <tr>\n      <th>4</th>\n      <td>0.314296</td>\n      <td>0.770972</td>\n    </tr>\n    <tr>\n      <th>...</th>\n      <td>...</td>\n      <td>...</td>\n    </tr>\n    <tr>\n      <th>548</th>\n      <td>0.457968</td>\n      <td>0.528903</td>\n    </tr>\n    <tr>\n      <th>549</th>\n      <td>0.458923</td>\n      <td>0.526447</td>\n    </tr>\n    <tr>\n      <th>550</th>\n      <td>0.451420</td>\n      <td>0.527094</td>\n    </tr>\n    <tr>\n      <th>551</th>\n      <td>0.450440</td>\n      <td>0.530037</td>\n    </tr>\n    <tr>\n      <th>552</th>\n      <td>0.455587</td>\n      <td>0.529483</td>\n    </tr>\n  </tbody>\n</table>\n<p>553 rows × 2 columns</p>\n</div>"
     },
     "execution_count": 167,
     "metadata": {},
     "output_type": "execute_result"
    }
   ],
   "source": [
    "df_dados = pd.read_csv(\"DBScan.csv\")\n",
    "\n",
    "df_dados"
   ],
   "metadata": {
    "collapsed": false,
    "pycharm": {
     "name": "#%%\n"
    }
   }
  },
  {
   "cell_type": "code",
   "execution_count": 181,
   "outputs": [],
   "source": [
    "def getModel():\n",
    "    return DBSCAN(eps=0.025,min_samples=5)"
   ],
   "metadata": {
    "collapsed": false,
    "pycharm": {
     "name": "#%%\n"
    }
   }
  },
  {
   "cell_type": "code",
   "execution_count": 182,
   "outputs": [],
   "source": [
    "model = getModel().fit(df_dados.values)"
   ],
   "metadata": {
    "collapsed": false,
    "pycharm": {
     "name": "#%%\n"
    }
   }
  },
  {
   "cell_type": "code",
   "execution_count": 183,
   "outputs": [
    {
     "data": {
      "text/plain": "array([0, 1, 2, 3, 4], dtype=int64)"
     },
     "execution_count": 183,
     "metadata": {},
     "output_type": "execute_result"
    }
   ],
   "source": [
    "df_dados_rotulados = df_dados.copy()\n",
    "\n",
    "df_dados_rotulados['rotulo'] = model.labels_\n",
    "\n",
    "\n",
    "df_dados_rotulados[\"rotulo\"].unique()"
   ],
   "metadata": {
    "collapsed": false,
    "pycharm": {
     "name": "#%%\n"
    }
   }
  },
  {
   "cell_type": "code",
   "execution_count": 184,
   "outputs": [
    {
     "data": {
      "text/plain": "<Figure size 432x288 with 1 Axes>",
      "image/png": "[encoded data removed]"
     },
     "metadata": {
      "needs_background": "light"
     },
     "output_type": "display_data"
    }
   ],
   "source": [
    "colors = cm.rainbow(np.linspace(0, 1, len(df_dados_rotulados['rotulo'].unique())))\n",
    "\n",
    "for i in df_dados_rotulados[\"rotulo\"].unique():\n",
    "    df_pintar = df_dados_rotulados[df_dados_rotulados[\"rotulo\"]==i]\n",
    "    if i == -1:\n",
    "       plt.scatter(df_pintar[\"x\"].array,df_pintar[\"y\"].array,color = \"gray\")\n",
    "    else:\n",
    "       plt.scatter(df_pintar[\"x\"].array,df_pintar[\"y\"].array,color = colors[i])\n",
    "\n",
    "plt.xlabel(\"x\")\n",
    "plt.ylabel(\"y\")\n",
    "\n",
    "plt.show()"
   ],
   "metadata": {
    "collapsed": false,
    "pycharm": {
     "name": "#%%\n"
    }
   }
  },
  {
   "cell_type": "code",
   "execution_count": 172,
   "outputs": [
    {
     "data": {
      "text/plain": "<Figure size 432x288 with 1 Axes>",
      "image/png": "[encoded data removed]"
     },
     "metadata": {
      "needs_background": "light"
     },
     "output_type": "display_data"
    }
   ],
   "source": [
    "eps = 0.0001\n",
    "min_samples = 5\n",
    "\n",
    "incremento = 0.003\n",
    "\n",
    "array_eps = []\n",
    "array_mc = []\n",
    "\n",
    "while eps < 0.3:\n",
    "    dbscan = DBSCAN(eps=eps,min_samples=min_samples).fit(df_dados.values)\n",
    "\n",
    "    df_rotulado = df_dados.copy()\n",
    "    df_rotulado['rotulo'] = dbscan.labels_\n",
    "\n",
    "\n",
    "    clusters = df_rotulado['rotulo'].unique()\n",
    "    clusters = np.delete(clusters,np.where(clusters==-1))\n",
    "\n",
    "    maiorCluster = 0\n",
    "\n",
    "    for k in clusters:\n",
    "\n",
    "        tamanho_cluster = len(df_rotulado[df_rotulado['rotulo']==k])\n",
    "\n",
    "        if maiorCluster < tamanho_cluster:\n",
    "            maiorCluster = tamanho_cluster\n",
    "\n",
    "    array_eps.append(eps)\n",
    "    array_mc.append(maiorCluster)\n",
    "\n",
    "    eps+=incremento\n",
    "\n",
    "plt.xlabel('eps')\n",
    "plt.ylabel('GC')\n",
    "plt.scatter(array_eps,array_mc)\n",
    "plt.grid(True)\n",
    "plt.show()"
   ],
   "metadata": {
    "collapsed": false,
    "pycharm": {
     "name": "#%%\n"
    }
   }
  },
  {
   "cell_type": "code",
   "execution_count": null,
   "outputs": [],
   "source": [],
   "metadata": {
    "collapsed": false,
    "pycharm": {
     "name": "#%%\n"
    }
   }
  }
 ],
 "metadata": {
  "kernelspec": {
   "display_name": "Python 3",
   "language": "python",
   "name": "python3"
  },
  "language_info": {
   "codemirror_mode": {
    "name": "ipython",
    "version": 2
   },
   "file_extension": ".py",
   "mimetype": "text/x-python",
   "name": "python",
   "nbconvert_exporter": "python",
   "pygments_lexer": "ipython2",
   "version": "2.7.6"
  }
 },
 "nbformat": 4,
 "nbformat_minor": 0
}